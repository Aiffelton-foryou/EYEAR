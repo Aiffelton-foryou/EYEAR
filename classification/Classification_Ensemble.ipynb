{
 "cells": [
  {
   "cell_type": "code",
   "execution_count": 1,
   "metadata": {},
   "outputs": [],
   "source": [
    "import matplotlib.pyplot as plt\n",
    "import numpy as np\n",
    "import os\n",
    "import PIL\n",
    "import tensorflow as tf\n",
    "\n",
    "from tensorflow import keras\n",
    "\n",
    "import natsort\n",
    "import glob"
   ]
  },
  {
   "cell_type": "code",
   "execution_count": 2,
   "metadata": {},
   "outputs": [],
   "source": [
    "from tensorflow import keras"
   ]
  },
  {
   "cell_type": "code",
   "execution_count": 3,
   "metadata": {},
   "outputs": [],
   "source": [
    "class1_names = ['농심감자면', '농심김치큰사발면', '농심무파마', '농심사리곰탕', '농심사천짜파게티', '농심새우탕면작은컵', '농심생생우동', '농심시원한메밀소바', '농심신라면', '농심쌀국수']"
   ]
  },
  {
   "cell_type": "code",
   "execution_count": 4,
   "metadata": {},
   "outputs": [],
   "source": [
    "class2_names = ['농심사리곰탕작은컵', '농심새우탕', '농심생생우동봉지', '농심신라면블랙', '농심안성탕면', '농심앵그리짜파구리', '농심오징어짬뽕', '농심육개장큰사발', '농심튀김우동', '키다리식품세이면잔치국수']"
   ]
  },
  {
   "cell_type": "code",
   "execution_count": 5,
   "metadata": {},
   "outputs": [],
   "source": [
    "class3_names = ['농심신라면작은컵', '농심오징어짬뽕작은컵', '농심짜파게티', '농심튀김우동작은컵', '백제멸치맛쌀국수', '삼양치즈불닭볶음면', '오뚜기부대찌개라면', '오뚜기쇠고기미역국라면', '오뚜기열라면', '오뚜기육개장']"
   ]
  },
  {
   "cell_type": "code",
   "execution_count": 6,
   "metadata": {},
   "outputs": [],
   "source": [
    "class4_names=['농심짜파게티범벅', '삼양까르보불닭볶음면봉지', '오뚜기진라면순한맛', '오뚜기진짬뽕', '오뚜기참깨라면', '오뚜기컵누들베트남쌀국수', '오뚜기크림진짬뽕', '팔도비빔면봉지', '팔도왕뚜껑', '풀무원백면']"
   ]
  },
  {
   "cell_type": "code",
   "execution_count": 7,
   "metadata": {},
   "outputs": [],
   "source": [
    "class5_names=['농심짜왕', '오뚜기진라면매운맛', '오뚜기참깨라면작은컵', '오뚜기컵누들매콤', '오뚜기컵누들우동맛', '팔도비빔면컵', '풀무원생면식감순한맛', '풀무원정면', '풀무원직화짜장', '풀무원홍면']"
   ]
  },
  {
   "cell_type": "code",
   "execution_count": 9,
   "metadata": {},
   "outputs": [],
   "source": [
    "total_class = [class1_names,class2_names,class3_names,class4_names,class5_names]"
   ]
  },
  {
   "cell_type": "code",
   "execution_count": 10,
   "metadata": {},
   "outputs": [],
   "source": [
    "class1_model = keras.models.load_model('D:/.last_checkpoint/class1.ckpt')\n",
    "class2_model = keras.models.load_model('D:/.last_checkpoint/class2.ckpt')\n",
    "class3_model = keras.models.load_model('D:/.last_checkpoint/class3.ckpt')\n",
    "class4_model = keras.models.load_model('D:/.last_checkpoint/class4.ckpt')\n",
    "class5_model = keras.models.load_model('D:/.last_checkpoint/class5.ckpt')"
   ]
  },
  {
   "cell_type": "code",
   "execution_count": 11,
   "metadata": {},
   "outputs": [],
   "source": [
    "model_list = [class1_model,class2_model,class3_model,class4_model,class5_model]"
   ]
  },
  {
   "cell_type": "code",
   "execution_count": 12,
   "metadata": {},
   "outputs": [],
   "source": [
    "def predict_img(img_path,index):\n",
    "    img_path = img_path\n",
    "    img_path = img_path.replace('\\\\','/')\n",
    "    img = tf.keras.utils.load_img(\n",
    "        img_path, target_size=(256, 256)\n",
    "    )\n",
    "\n",
    "    img_array = tf.keras.utils.img_to_array(img)\n",
    "    img_array = tf.expand_dims(img_array, 0) # Create a batch\n",
    "\n",
    "    predictions = model_list[index].predict(img_array)\n",
    "    score = tf.nn.softmax(predictions[0])\n",
    "\n",
    "    prediction, acc = total_class[index][np.argmax(score)], 100 * np.max(score)\n",
    "    return prediction, acc\n"
   ]
  },
  {
   "cell_type": "code",
   "execution_count": null,
   "metadata": {},
   "outputs": [],
   "source": [
    "file_list = glob.glob('D:/.last_checkpoint/class2_testImage/*')\n",
    "file_list = natsort.natsorted(file_list)\n",
    "len(file_list), file_list"
   ]
  },
  {
   "cell_type": "code",
   "execution_count": null,
   "metadata": {},
   "outputs": [],
   "source": [
    "count = 0\n",
    "for img in file_list: \n",
    "    print(img)\n",
    "    max = 0\n",
    "    last_prediction = ''\n",
    "    for i in range(5):\n",
    "        prediction, acc = predict_img(img, i)\n",
    "        if acc >= max:\n",
    "            max = acc\n",
    "            last_prediction = prediction\n",
    "\n",
    "    print(f'{round(max)}% 확률로 {last_prediction}입니다.')\n",
    "\n"
   ]
  },
  {
   "cell_type": "code",
   "execution_count": null,
   "metadata": {},
   "outputs": [],
   "source": []
  }
 ],
 "metadata": {
  "interpreter": {
   "hash": "ff70c7f637d0fb250ed574dc07279b485517f2ff5de80d642b51acfaeabf7d17"
  },
  "kernelspec": {
   "display_name": "Python 3.10.4 ('class')",
   "language": "python",
   "name": "python3"
  },
  "language_info": {
   "codemirror_mode": {
    "name": "ipython",
    "version": 3
   },
   "file_extension": ".py",
   "mimetype": "text/x-python",
   "name": "python",
   "nbconvert_exporter": "python",
   "pygments_lexer": "ipython3",
   "version": "3.10.4"
  },
  "orig_nbformat": 4
 },
 "nbformat": 4,
 "nbformat_minor": 2
}
