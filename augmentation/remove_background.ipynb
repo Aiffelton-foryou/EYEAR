{
 "cells": [
  {
   "cell_type": "code",
   "execution_count": 29,
   "metadata": {},
   "outputs": [],
   "source": [
    "import glob\n",
    "import natsort\n",
    "import tqdm\n",
    "import os\n",
    "# python 3.9로 설정 필수!!!\n",
    "from rembg import remove # remove backgroud image lib\n",
    "#참고: https://github.com/danielgatis/rembg"
   ]
  },
  {
   "cell_type": "code",
   "execution_count": null,
   "metadata": {},
   "outputs": [],
   "source": [
    "CLASS_NUM = 50\n",
    "IMAGE_SAVE_DIR = 'D:/Classification/realData_original/remove_bg_save/total_50/'"
   ]
  },
  {
   "cell_type": "code",
   "execution_count": null,
   "metadata": {},
   "outputs": [],
   "source": [
    "img_dir = 'D:/Classification/realData_original/original/*'\n",
    "img_list = glob.glob(img_dir)"
   ]
  },
  {
   "cell_type": "code",
   "execution_count": 13,
   "metadata": {},
   "outputs": [],
   "source": [
    "#최종 결과 이미지 저장 폴더 생성\n",
    "for i in range(CLASS_NUM):\n",
    "    os.mkdir(IMAGE_SAVE_DIR+str(i))"
   ]
  },
  {
   "cell_type": "code",
   "execution_count": null,
   "metadata": {},
   "outputs": [],
   "source": [
    "save_dir = glob.glob(IMAGE_SAVE_DIR+'*')"
   ]
  },
  {
   "cell_type": "code",
   "execution_count": null,
   "metadata": {},
   "outputs": [],
   "source": [
    "save_dir = natsort.natsorted(save_dir)\n",
    "save_dir"
   ]
  },
  {
   "cell_type": "code",
   "execution_count": 11,
   "metadata": {},
   "outputs": [
    {
     "data": {
      "text/plain": [
       "(50, 22)"
      ]
     },
     "execution_count": 11,
     "metadata": {},
     "output_type": "execute_result"
    }
   ],
   "source": [
    "original_img_list = []\n",
    "for temp in img_list:\n",
    "    dir_ = glob.glob(temp+'/*')\n",
    "    original_img_list.append(dir_)\n",
    "\n",
    "len(original_img_list) , len(original_img_list[0])"
   ]
  },
  {
   "cell_type": "code",
   "execution_count": 41,
   "metadata": {},
   "outputs": [],
   "source": [
    "def remove_background(input_image,index, count):\n",
    "    '''\n",
    "    remove_background: image에서 background 제거하기 위한 코드\n",
    "    \n",
    "    input_image: background 제거할 image\n",
    "    \n",
    "    class 1개 당 1개의 폴더에 저장하기 위해 지정\n",
    "    class 1개 당 이미지 22개씩 background 제거\n",
    "    index: 저장 경로 지정 index\n",
    "    count: image 갯수 \n",
    "    \n",
    "    '''\n",
    "    \n",
    "    output = save_dir[index]+'/'+str(count)+'.jpg'\n",
    "    \n",
    "    with open(input_image, 'rb') as i:\n",
    "        with open(output, 'wb') as o:\n",
    "            input = i.read()\n",
    "            output = remove(input)\n",
    "            o.write(output)"
   ]
  },
  {
   "cell_type": "code",
   "execution_count": 42,
   "metadata": {},
   "outputs": [
    {
     "name": "stdout",
     "output_type": "stream",
     "text": [
      "D:/Classification/realData_original/remove_bg_save/total_50\\0\n",
      "D:/Classification/realData_original/remove_bg_save/total_50\\1\n",
      "D:/Classification/realData_original/remove_bg_save/total_50\\2\n",
      "D:/Classification/realData_original/remove_bg_save/total_50\\3\n",
      "D:/Classification/realData_original/remove_bg_save/total_50\\4\n",
      "D:/Classification/realData_original/remove_bg_save/total_50\\5\n",
      "D:/Classification/realData_original/remove_bg_save/total_50\\6\n",
      "D:/Classification/realData_original/remove_bg_save/total_50\\7\n",
      "D:/Classification/realData_original/remove_bg_save/total_50\\8\n",
      "D:/Classification/realData_original/remove_bg_save/total_50\\9\n",
      "D:/Classification/realData_original/remove_bg_save/total_50\\10\n",
      "D:/Classification/realData_original/remove_bg_save/total_50\\11\n",
      "D:/Classification/realData_original/remove_bg_save/total_50\\12\n",
      "D:/Classification/realData_original/remove_bg_save/total_50\\13\n",
      "D:/Classification/realData_original/remove_bg_save/total_50\\14\n",
      "D:/Classification/realData_original/remove_bg_save/total_50\\15\n",
      "D:/Classification/realData_original/remove_bg_save/total_50\\16\n",
      "D:/Classification/realData_original/remove_bg_save/total_50\\17\n",
      "D:/Classification/realData_original/remove_bg_save/total_50\\18\n",
      "D:/Classification/realData_original/remove_bg_save/total_50\\19\n",
      "D:/Classification/realData_original/remove_bg_save/total_50\\20\n",
      "D:/Classification/realData_original/remove_bg_save/total_50\\21\n",
      "D:/Classification/realData_original/remove_bg_save/total_50\\22\n",
      "D:/Classification/realData_original/remove_bg_save/total_50\\23\n",
      "D:/Classification/realData_original/remove_bg_save/total_50\\24\n",
      "D:/Classification/realData_original/remove_bg_save/total_50\\25\n",
      "D:/Classification/realData_original/remove_bg_save/total_50\\26\n",
      "D:/Classification/realData_original/remove_bg_save/total_50\\27\n",
      "D:/Classification/realData_original/remove_bg_save/total_50\\28\n",
      "D:/Classification/realData_original/remove_bg_save/total_50\\29\n",
      "D:/Classification/realData_original/remove_bg_save/total_50\\30\n",
      "D:/Classification/realData_original/remove_bg_save/total_50\\31\n",
      "D:/Classification/realData_original/remove_bg_save/total_50\\32\n",
      "D:/Classification/realData_original/remove_bg_save/total_50\\33\n",
      "D:/Classification/realData_original/remove_bg_save/total_50\\34\n",
      "D:/Classification/realData_original/remove_bg_save/total_50\\35\n",
      "D:/Classification/realData_original/remove_bg_save/total_50\\36\n",
      "D:/Classification/realData_original/remove_bg_save/total_50\\37\n",
      "D:/Classification/realData_original/remove_bg_save/total_50\\38\n",
      "D:/Classification/realData_original/remove_bg_save/total_50\\39\n",
      "D:/Classification/realData_original/remove_bg_save/total_50\\40\n",
      "D:/Classification/realData_original/remove_bg_save/total_50\\41\n",
      "D:/Classification/realData_original/remove_bg_save/total_50\\42\n",
      "D:/Classification/realData_original/remove_bg_save/total_50\\43\n",
      "D:/Classification/realData_original/remove_bg_save/total_50\\44\n",
      "D:/Classification/realData_original/remove_bg_save/total_50\\45\n",
      "D:/Classification/realData_original/remove_bg_save/total_50\\46\n",
      "D:/Classification/realData_original/remove_bg_save/total_50\\47\n",
      "D:/Classification/realData_original/remove_bg_save/total_50\\48\n",
      "D:/Classification/realData_original/remove_bg_save/total_50\\49\n",
      "end....\n"
     ]
    }
   ],
   "source": [
    "for i, temp in enumerate(original_img_list):\n",
    "    \n",
    "    for j, img in enumerate(temp):\n",
    "        remove_background(img,i, j)\n",
    "    \n",
    "print('end....')"
   ]
  }
 ],
 "metadata": {
  "interpreter": {
   "hash": "a2a23437f1461c74c8711ad567efcd0d148db3c50e578a08719a5b1c7421499b"
  },
  "kernelspec": {
   "display_name": "Python 3.9.12 ('rembg')",
   "language": "python",
   "name": "python3"
  },
  "language_info": {
   "codemirror_mode": {
    "name": "ipython",
    "version": 3
   },
   "file_extension": ".py",
   "mimetype": "text/x-python",
   "name": "python",
   "nbconvert_exporter": "python",
   "pygments_lexer": "ipython3",
   "version": "3.9.12"
  },
  "orig_nbformat": 4
 },
 "nbformat": 4,
 "nbformat_minor": 2
}
