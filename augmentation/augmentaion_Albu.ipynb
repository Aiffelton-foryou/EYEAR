{
  "cells": [
    {
      "cell_type": "code",
      "execution_count": 2,
      "metadata": {
        "colab": {
          "base_uri": "https://localhost:8080/",
          "height": 35
        },
        "id": "xB5XQ1ecGdu8",
        "outputId": "01c57baa-e8b0-4a70-a935-0e1343c6aa89"
      },
      "outputs": [],
      "source": [
        "import tensorflow as tf\n",
        "import numpy as np\n",
        "from PIL import Image\n",
        "import matplotlib.pyplot as plt\n",
        "import os\n",
        "import albumentations as A\n",
        "from tqdm import tqdm\n",
        "import glob\n",
        "import natsort\n",
        "\n",
        "# 1.이미지 처리에 필요한 PIL의 모듈 import\n",
        "import cv2\n",
        "from PIL import  Image, ImageDraw, ImageFont\n"
      ]
    },
    {
      "cell_type": "code",
      "execution_count": null,
      "metadata": {},
      "outputs": [],
      "source": [
        "IMG_DIR = 'D:/Classification/Albu_result/original_flip_rotate/*'\n",
        "SAVE_DIR = 'D:/Classification/Albu_result/bright/*'"
      ]
    },
    {
      "cell_type": "code",
      "execution_count": 3,
      "metadata": {},
      "outputs": [
        {
          "data": {
            "text/plain": [
              "['D:/Classification/Albu_result/original_flip_rotate\\\\1583',\n",
              " 'D:/Classification/Albu_result/original_flip_rotate\\\\20114',\n",
              " 'D:/Classification/Albu_result/original_flip_rotate\\\\90130']"
            ]
          },
          "execution_count": 3,
          "metadata": {},
          "output_type": "execute_result"
        }
      ],
      "source": [
        "# 각 클래스가 들어있는 원본 이미지 폴더 경로 설정 \n",
        "Rotate_dir = glob.glob(IMG_DIR)\n",
        "Rotate_dir = natsort.natsorted(Rotate_dir)\n",
        "Rotate_dir"
      ]
    },
    {
      "cell_type": "code",
      "execution_count": 4,
      "metadata": {},
      "outputs": [
        {
          "data": {
            "text/plain": [
              "['D:/Classification/Albu_result/bright\\\\1583',\n",
              " 'D:/Classification/Albu_result/bright\\\\20114',\n",
              " 'D:/Classification/Albu_result/bright\\\\90130']"
            ]
          },
          "execution_count": 4,
          "metadata": {},
          "output_type": "execute_result"
        }
      ],
      "source": [
        "# albu를 적용한 이미지를 저장하는 경로 설정\n",
        "saveRotateDir = glob.glob(SAVE_DIR)\n",
        "saveRotateDir = natsort.natsorted(saveRotateDir)\n",
        "saveRotateDir"
      ]
    },
    {
      "cell_type": "code",
      "execution_count": 5,
      "metadata": {},
      "outputs": [],
      "source": [
        "# 이미지 경로 수정 (\\\\ --> /)\n",
        "def Replace_Image_dir(sortImgList):\n",
        "    ImageReplace = []\n",
        "    for i in range(len(sortImgList)):\n",
        "        ImageReplace.append(sortImgList[i].replace('\\\\','/'))\n",
        "    \n",
        "    return ImageReplace"
      ]
    },
    {
      "cell_type": "code",
      "execution_count": 6,
      "metadata": {},
      "outputs": [],
      "source": [
        "# 폴더안의 폴더 또는 파일을 불러오는 함수 \n",
        "def read_image_dir(dir_):\n",
        "    img_dir = glob.glob(dir_+'/*')\n",
        "    img_dir = natsort.natsorted(img_dir)\n",
        "\n",
        "    return img_dir"
      ]
    },
    {
      "cell_type": "code",
      "execution_count": 7,
      "metadata": {},
      "outputs": [],
      "source": [
        "# 각 클래스들을 list에 추가합니다.  \n",
        "ClassImageList = []\n",
        "for i in Rotate_dir:  \n",
        "    temp = read_image_dir(i) \n",
        "    ClassImageList.append(temp)"
      ]
    },
    {
      "cell_type": "code",
      "execution_count": 8,
      "metadata": {},
      "outputs": [
        {
          "data": {
            "text/plain": [
              "3"
            ]
          },
          "execution_count": 8,
          "metadata": {},
          "output_type": "execute_result"
        }
      ],
      "source": [
        "# 클래스 개수 확인 \n",
        "len(ClassImageList)"
      ]
    },
    {
      "cell_type": "code",
      "execution_count": 9,
      "metadata": {},
      "outputs": [],
      "source": [
        "# 이미지를 배열로 바꿔주는 함수 \n",
        "def image_to_array(img_list):\n",
        "    arraylist = []\n",
        "    for tempi in img_list:\n",
        "        image = Image.open(tempi).resize((2988, 2988)) # 이미지 resize\n",
        "        image_arr = np.array(image) # 이미지를 배열로 변환\n",
        "        arraylist.append(image_arr) \n",
        "    return arraylist"
      ]
    },
    {
      "cell_type": "code",
      "execution_count": 10,
      "metadata": {},
      "outputs": [
        {
          "name": "stderr",
          "output_type": "stream",
          "text": [
            "100%|██████████| 3/3 [01:35<00:00, 31.95s/it]\n"
          ]
        }
      ],
      "source": [
        "# 이미지를 배열로 바꿔 리스트에 저장합니다. \n",
        "Array_img_List = []\n",
        "for i in tqdm(range(3)):\n",
        "    temp = image_to_array(ClassImageList[i])\n",
        "    Array_img_List.append(temp)"
      ]
    },
    {
      "cell_type": "code",
      "execution_count": 11,
      "metadata": {},
      "outputs": [
        {
          "data": {
            "text/plain": [
              "3"
            ]
          },
          "execution_count": 11,
          "metadata": {},
          "output_type": "execute_result"
        }
      ],
      "source": [
        "len(Array_img_List)"
      ]
    },
    {
      "cell_type": "code",
      "execution_count": 12,
      "metadata": {},
      "outputs": [],
      "source": [
        "# 원본 이미지를 albumentation을 적용시켜 변환시키는 함수 \n",
        "def transform_data(img_arr,save_dir):\n",
        "    list_ =[]\n",
        "    for i, temp in tqdm(enumerate(img_arr)):\n",
        "        \n",
        "        transform = A.Compose(\n",
        "            [\n",
        "                A.RandomBrightnessContrast(brightness_limit=0.3, contrast_limit=0.3,p=1.0) # 밝기와 대비를 랜덤으로 조정\n",
        "                # A.Rotate(p=1)\n",
        "            ]\n",
        "            # [A.Affine(rotate=(-45,45),scale=(0.5,0.9),p=0.5),\n",
        "            #  A.RandomCrop(width=256, height=256),\n",
        "            #  A.HorizontalFlip()]\n",
        "            # [A.ShiftScaleRotate(shift_limit=0.4, scale_limit=(0.8, 1.0), rotate_limit=90, p=1, border_mode=cv2.BORDER_REPLICATE)]\n",
        "            # A.RandomCrop(width=256, height=256),\n",
        "            # A.HorizontalFlip()]\n",
        "        )\n",
        "        t_image = transform(image=temp)\n",
        "        t_image = t_image['image']\n",
        "\n",
        "        save_image = Image.fromarray(t_image)\n",
        "        save_image.save(saveRotateDir[save_dir] + f'/flip_rotate_bright{i}.jpg')\n",
        "\n",
        "        \n",
        "        "
      ]
    },
    {
      "cell_type": "code",
      "execution_count": 13,
      "metadata": {},
      "outputs": [
        {
          "name": "stderr",
          "output_type": "stream",
          "text": [
            "456it [01:09,  6.57it/s]\n",
            "456it [00:59,  7.69it/s]\n",
            "456it [00:27, 16.81it/s]\n",
            "3it [02:35, 51.94s/it]\n"
          ]
        }
      ],
      "source": [
        "# 클래스별로 이미지를 변환시켜줍니다. \n",
        "for i, image in tqdm(enumerate(Array_img_List)):\n",
        "    transform_data(image,i)"
      ]
    },
    {
      "cell_type": "code",
      "execution_count": null,
      "metadata": {},
      "outputs": [],
      "source": []
    }
  ],
  "metadata": {
    "colab": {
      "collapsed_sections": [],
      "name": "albu 라이브러리",
      "provenance": []
    },
    "interpreter": {
      "hash": "74060c50730a4546f095945807d8685e9eb1a6e60f5ee7f5347214f43bbeada3"
    },
    "kernelspec": {
      "display_name": "Python 3.10.4 ('opencv')",
      "language": "python",
      "name": "python3"
    },
    "language_info": {
      "codemirror_mode": {
        "name": "ipython",
        "version": 3
      },
      "file_extension": ".py",
      "mimetype": "text/x-python",
      "name": "python",
      "nbconvert_exporter": "python",
      "pygments_lexer": "ipython3",
      "version": "3.10.4"
    }
  },
  "nbformat": 4,
  "nbformat_minor": 0
}
